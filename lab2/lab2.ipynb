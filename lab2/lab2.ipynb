{
 "cells": [
  {
   "cell_type": "markdown",
   "metadata": {},
   "source": [
    "# Lab2"
   ]
  },
  {
   "cell_type": "markdown",
   "metadata": {},
   "source": [
    "### 1. \n",
    "- Для кожної із адміністративних одиниць України завантажити тестові\n",
    "структуровані файли, що містять значення VHI-індексу. Ця процедура має бути\n",
    "автоматизована, параметром процедури має бути індекс (номер) області.\n",
    " - При зберіганні файлу до його імені потрібно додати дату та час завантаження.\n",
    "\n",
    "- Передбачити повторні запуски скрипту, довантаження нових даних та колізію\n",
    "даних;"
   ]
  },
  {
   "cell_type": "code",
   "execution_count": 1,
   "metadata": {},
   "outputs": [],
   "source": [
    "import urllib.request\n",
    "from datetime import datetime\n",
    "import os\n",
    "import glob\n",
    "import pandas as pd\n",
    "import re"
   ]
  },
  {
   "cell_type": "code",
   "execution_count": 2,
   "metadata": {},
   "outputs": [
    {
     "name": "stdout",
     "output_type": "stream",
     "text": [
      "The file already exists: 1\n",
      "The file already exists: 2\n",
      "The file already exists: 3\n",
      "The file already exists: 4\n",
      "The file already exists: 5\n",
      "The file already exists: 6\n",
      "The file already exists: 7\n",
      "The file already exists: 8\n",
      "The file already exists: 9\n",
      "The file already exists: 10\n",
      "The file already exists: 11\n",
      "The file already exists: 12\n",
      "The file already exists: 13\n",
      "The file already exists: 14\n",
      "The file already exists: 15\n",
      "The file already exists: 16\n",
      "The file already exists: 17\n",
      "The file already exists: 18\n",
      "The file already exists: 19\n",
      "The file already exists: 20\n",
      "The file already exists: 21\n",
      "The file already exists: 22\n",
      "The file already exists: 23\n",
      "The file already exists: 24\n",
      "The file already exists: 25\n",
      "The file already exists: 26\n",
      "The file already exists: 27\n",
      "The file already exists: 28\n"
     ]
    }
   ],
   "source": [
    "directory= \"./Data\"\n",
    "\n",
    "for i in range(1,29):\n",
    "    url=f'https://www.star.nesdis.noaa.gov/smcd/emb/vci/VH/get_TS_admin.php?country=UKR&provinceID={i}&year1=1981&year2=2024&type=Mean'.format()\n",
    "    \n",
    "    name=\"NOAA_ID\"+str(i)+\"*\"\n",
    "    if glob.glob(os.path.join(directory, name)):\n",
    "        print(\"The file already exists: \" + str(i))\n",
    "        continue\n",
    "    \n",
    "    now = datetime.now().strftime(\"%d%m%Y%H%M%S\")\n",
    "    \n",
    "    wp = urllib.request.urlopen(url)\n",
    "    text = wp.read()\n",
    "\n",
    "    filename = os.path.join(directory, 'NOAA_ID'+str(i)+'_'+now+'.csv')\n",
    "    out = open(filename,'wb')\n",
    "    out.write(text)\n",
    " \n",
    "    out.close()\n",
    "    print(f\"Downloaded file for {i} region\")"
   ]
  },
  {
   "cell_type": "markdown",
   "metadata": {},
   "source": [
    "### 2. Зчитати завантажені текстові файли у фрейм"
   ]
  },
  {
   "cell_type": "code",
   "execution_count": 3,
   "metadata": {},
   "outputs": [
    {
     "name": "stdout",
     "output_type": "stream",
     "text": [
      "       Year  Week    SMN     SMT    VCI    TCI    VHI  area\n",
      "0      1982   1.0  0.059  258.24  51.11  48.78  49.95    10\n",
      "1      1982   2.0  0.063  261.53  55.89  38.20  47.04    10\n",
      "2      1982   3.0  0.063  263.45  57.30  32.69  44.99    10\n",
      "3      1982   4.0  0.061  265.10  53.96  28.62  41.29    10\n",
      "4      1982   5.0  0.058  266.42  46.87  28.57  37.72    10\n",
      "...     ...   ...    ...     ...    ...    ...    ...   ...\n",
      "61035  2024  42.0  0.152  291.74  40.24   9.54  24.92     9\n",
      "61036  2024  43.0  0.150  289.53  43.73   6.85  25.30     9\n",
      "61037  2024  44.0  0.148  287.22  46.47   2.35  24.41     9\n",
      "61038  2024  45.0  0.148  285.25  50.19   0.76  25.48     9\n",
      "61039  2024  46.0  0.145  283.59  52.70   0.39  26.55     9\n",
      "\n",
      "[61040 rows x 8 columns]\n",
      "Year      int64\n",
      "Week    float64\n",
      "SMN     float64\n",
      "SMT     float64\n",
      "VCI     float64\n",
      "TCI     float64\n",
      "VHI     float64\n",
      "area      int64\n",
      "dtype: object\n"
     ]
    }
   ],
   "source": [
    "def reading_text_into_the_frame(directory):\n",
    "    \n",
    "    headers = ['Year', 'Week', 'SMN', 'SMT', 'VCI', 'TCI', 'VHI', 'empty']\n",
    "    all_df = []\n",
    "    fnames = os.listdir(directory)\n",
    "   \n",
    "    for fname in fnames:\n",
    "        \n",
    "        if fname.startswith(\"NOAA\") and fname.endswith(\".csv\"):\n",
    "            \n",
    "            file_path = os.path.join(directory, fname)\n",
    "            df = pd.read_csv(file_path, header=1, names=headers)\n",
    "            df =df.drop(columns=['empty']).dropna()\n",
    "            df = df.drop(df.loc[df['VHI'] == -1].index)\n",
    "            \n",
    "            i = int(re.search(r'\\d+', fname).group())\n",
    "            df['area'] = i\n",
    "            \n",
    "            df.loc[0, 'Year'] = df.loc[0,'Year'][9:]\n",
    "            \n",
    "            df['Year'] = df['Year'].astype(int)\n",
    "            \n",
    "            all_df.append(df)\n",
    "            \n",
    "    final_df = pd.concat(all_df, ignore_index=True)\n",
    "    \n",
    "    #final_df = final_df.drop(columns=['empty'])\n",
    "    print(final_df)\n",
    "    \n",
    "    print(final_df.dtypes)\n",
    "    \n",
    "    return(final_df)\n",
    "\n",
    "final_df = reading_text_into_the_frame(directory)"
   ]
  },
  {
   "cell_type": "markdown",
   "metadata": {},
   "source": [
    "### 3. Реалізувати окрему процедуру, яка змінить індекси областей, за англійською абеткою на наступні, за українською:"
   ]
  },
  {
   "cell_type": "code",
   "execution_count": 4,
   "metadata": {},
   "outputs": [
    {
     "name": "stdout",
     "output_type": "stream",
     "text": [
      "       Year  Week    SMN     SMT    VCI    TCI    VHI  area\n",
      "0      1982   1.0  0.059  258.24  51.11  48.78  49.95    21\n",
      "1      1982   2.0  0.063  261.53  55.89  38.20  47.04    21\n",
      "2      1982   3.0  0.063  263.45  57.30  32.69  44.99    21\n",
      "3      1982   4.0  0.061  265.10  53.96  28.62  41.29    21\n",
      "4      1982   5.0  0.058  266.42  46.87  28.57  37.72    21\n",
      "...     ...   ...    ...     ...    ...    ...    ...   ...\n",
      "61035  2024  42.0  0.152  291.74  40.24   9.54  24.92    20\n",
      "61036  2024  43.0  0.150  289.53  43.73   6.85  25.30    20\n",
      "61037  2024  44.0  0.148  287.22  46.47   2.35  24.41    20\n",
      "61038  2024  45.0  0.148  285.25  50.19   0.76  25.48    20\n",
      "61039  2024  46.0  0.145  283.59  52.70   0.39  26.55    20\n",
      "\n",
      "[61040 rows x 8 columns]\n"
     ]
    }
   ],
   "source": [
    "def change_index():\n",
    "    \n",
    "    \n",
    "    change = {1:22, 2:24, 3:23, 4:25, 5:3, 6:4, 7:8, 8:19, 9:20, 10:21, \n",
    "                11:9, 12:9, 13:10,  14:11, 15:12, 16:13, 17:14, 18:15 ,19:16, \n",
    "                20:25, 21:17 ,22:18 ,23:6 ,24:1 ,25:2 ,26:7 ,27:5}\n",
    "    \n",
    "    final_df[\"area\"] = final_df[\"area\"].replace(change)\n",
    "    \n",
    "    print(final_df)\n",
    "\n",
    "\n",
    "change_index()\n",
    "\n"
   ]
  },
  {
   "cell_type": "markdown",
   "metadata": {},
   "source": [
    "### 4.1 Реалізувати ряд VHI для області за вказаний рік;\n",
    "    "
   ]
  },
  {
   "cell_type": "code",
   "execution_count": 5,
   "metadata": {},
   "outputs": [
    {
     "name": "stdout",
     "output_type": "stream",
     "text": [
      "       Year  area    VHI\n",
      "52969  1995     4  62.15\n",
      "52970  1995     4  53.02\n",
      "52971  1995     4  41.55\n",
      "52972  1995     4  31.77\n",
      "52973  1995     4  26.08\n",
      "52974  1995     4  23.32\n",
      "52975  1995     4  22.68\n",
      "52976  1995     4  24.90\n",
      "52977  1995     4  27.88\n",
      "52978  1995     4  31.57\n",
      "52979  1995     4  32.75\n",
      "52980  1995     4  34.11\n",
      "52981  1995     4  36.30\n",
      "52982  1995     4  41.11\n",
      "52983  1995     4  46.10\n",
      "52984  1995     4  48.52\n",
      "52985  1995     4  49.62\n",
      "52986  1995     4  49.75\n",
      "52987  1995     4  48.84\n",
      "52988  1995     4  46.96\n",
      "52989  1995     4  48.42\n",
      "52990  1995     4  53.67\n",
      "52991  1995     4  57.77\n",
      "52992  1995     4  59.65\n",
      "52993  1995     4  60.47\n",
      "52994  1995     4  60.22\n",
      "52995  1995     4  59.26\n",
      "52996  1995     4  58.27\n",
      "52997  1995     4  57.26\n",
      "52998  1995     4  55.51\n",
      "52999  1995     4  53.81\n",
      "53000  1995     4  52.98\n",
      "53001  1995     4  51.30\n",
      "53002  1995     4  50.40\n",
      "53003  1995     4  53.62\n",
      "53004  1995     4  56.03\n",
      "53005  1995     4  56.42\n",
      "53006  1995     4  54.59\n",
      "53007  1995     4  52.79\n",
      "53008  1995     4  50.20\n",
      "53009  1995     4  45.24\n",
      "53010  1995     4  40.81\n",
      "53011  1995     4  35.81\n",
      "53012  1995     4  31.05\n",
      "53013  1995     4  27.10\n",
      "53014  1995     4  23.87\n",
      "53015  1995     4  19.36\n",
      "53016  1995     4  16.73\n",
      "53017  1995     4  17.37\n"
     ]
    }
   ],
   "source": [
    "def vhi_region(index, year):\n",
    "    \n",
    "    vhi = final_df[(final_df['area'] == index) & (final_df[\"Year\"] == year)][['Year','area','VHI']]\n",
    "    return vhi\n",
    "\n",
    "print(vhi_region(4, 1995))"
   ]
  },
  {
   "cell_type": "markdown",
   "metadata": {},
   "source": [
    "### 4.2 Реалізувати пошук екстремумів (min та max) для вказаних областей та років, середнього та медіани;"
   ]
  },
  {
   "cell_type": "code",
   "execution_count": 6,
   "metadata": {},
   "outputs": [
    {
     "name": "stdout",
     "output_type": "stream",
     "text": [
      "Extremes: \n",
      "   min-12.45\n",
      "   max-76.87\n",
      "   mean-43.680641137855574\n",
      "   min-43.2\n"
     ]
    }
   ],
   "source": [
    "def extremes(year, regions):\n",
    "    \n",
    "    final_df['Year'] = pd.to_numeric(final_df['Year'], errors='coerce')\n",
    "    final_df['area'] = pd.to_numeric(final_df['area'], errors='coerce')\n",
    "    \n",
    "    data = final_df[(final_df['Year'] >= year[0]) &\n",
    "                    (final_df['Year'] <= year[1]) &\n",
    "                    (final_df['area'] >= regions[0]) & \n",
    "                    (final_df['area'] <= regions[1])]\n",
    "    \n",
    "    min_vhi = data['VHI'].min()\n",
    "    max_vhi = data['VHI'].max()\n",
    "    mean_vhi = data['VHI'].mean()\n",
    "    median_vhi = data['VHI'].median()\n",
    "    \n",
    "    return(\"Extremes: \\n   min-\" + str(min_vhi) +\"\\n   max-\" + str(max_vhi) +\"\\n   mean-\" + str(mean_vhi) +\"\\n   min-\" + str(median_vhi))\n",
    "\n",
    "print(extremes([ 1984, 1992], [3, 11]))\n",
    "    \n",
    "    "
   ]
  },
  {
   "cell_type": "markdown",
   "metadata": {},
   "source": [
    "### 4.3 Реалізувати ряд VHI за вказаний діапазон років для вказаних областей;"
   ]
  },
  {
   "cell_type": "code",
   "execution_count": 7,
   "metadata": {},
   "outputs": [
    {
     "name": "stdout",
     "output_type": "stream",
     "text": [
      "       Year  area    VHI\n",
      "52968  1994     4  28.74\n",
      "52967  1994     4  31.57\n",
      "52966  1994     4  36.93\n",
      "52965  1994     4  42.42\n",
      "52964  1994     4  47.86\n",
      "...     ...   ...    ...\n",
      "8989   1987    11  42.26\n",
      "8988   1987    11  45.26\n",
      "8987   1987    11  47.96\n",
      "8986   1987    11  49.05\n",
      "8985   1987    11  49.84\n",
      "\n",
      "[800 rows x 3 columns]\n"
     ]
    }
   ],
   "source": [
    "def sf_range(year, region):\n",
    "    \n",
    "    data = final_df[(final_df['Year'].between(year[0],year[1]))&\n",
    "                    (final_df['area'].isin(region))]\n",
    "    \n",
    "    f_data = data.sort_values(by='area')\n",
    "    \n",
    "    return f_data[['Year', 'area', 'VHI']]\n",
    "\n",
    "print(sf_range([1987, 1994], [4, 11]))"
   ]
  },
  {
   "cell_type": "markdown",
   "metadata": {},
   "source": [
    "### 4.4 Виявити роки, протягом яких екстремальні посухи торкнулися більше вказаного відсотка областей по Україні \n"
   ]
  },
  {
   "cell_type": "code",
   "execution_count": 8,
   "metadata": {},
   "outputs": [
    {
     "name": "stdout",
     "output_type": "stream",
     "text": [
      "5\n",
      "    Year        VHI  area\n",
      "0   1993   8.872000     4\n",
      "1   1993  14.080000    11\n",
      "2   2000  12.213333     1\n",
      "3   2000  10.436667     9\n",
      "4   2000  11.460000    19\n",
      "5   2000  12.415000    22\n",
      "6   2000  10.828571    25\n",
      "7   2007  12.641818     7\n",
      "8   2007   7.895000    13\n",
      "9   2007   8.114444    14\n",
      "10  2007  13.289091    20\n",
      "11  2007  14.008333    25\n"
     ]
    }
   ],
   "source": [
    "def droughts(percent):\n",
    "    \n",
    "    count = int((percent*25)/100)\n",
    "    print(count)\n",
    "    drought = final_df[final_df['VHI']<15]\n",
    "    count_of_region = drought.groupby(by='Year')['area'].count()\n",
    "    years_d = count_of_region[count_of_region > count].index\n",
    "    \n",
    "    drought_avg = drought[drought['Year'].isin(years_d)].groupby(['Year', 'area' ],as_index=False)['VHI'].mean()\n",
    "    \n",
    "    #return drought[drought['Year'].isin(years_d)][['Year', 'VHI', 'area']]\n",
    "    return drought_avg[['Year', 'VHI', 'area']]\n",
    "\n",
    "print(droughts(20))\n",
    "    "
   ]
  }
 ],
 "metadata": {
  "kernelspec": {
   "display_name": "Python 3",
   "language": "python",
   "name": "python3"
  },
  "language_info": {
   "codemirror_mode": {
    "name": "ipython",
    "version": 3
   },
   "file_extension": ".py",
   "mimetype": "text/x-python",
   "name": "python",
   "nbconvert_exporter": "python",
   "pygments_lexer": "ipython3",
   "version": "3.11.4"
  }
 },
 "nbformat": 4,
 "nbformat_minor": 2
}
