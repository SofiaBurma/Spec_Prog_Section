{
 "cells": [
  {
   "cell_type": "markdown",
   "metadata": {},
   "source": [
    "# LAB3\n",
    "## FI-31 Burma Sofia"
   ]
  },
  {
   "cell_type": "code",
   "execution_count": 1,
   "metadata": {},
   "outputs": [
    {
     "name": "stderr",
     "output_type": "stream",
     "text": [
      "WARNING:root:Warning: unable to set defaultencoding to utf-8\n"
     ]
    }
   ],
   "source": [
    "\n",
    "from spyre import server\n",
    "\n",
    "import pandas as pd\n",
    "import os\n",
    "import urllib3\n",
    "import re\n",
    "import matplotlib.pyplot as plt\n",
    "\n",
    "import __main__ as main\n",
    "main.__file__ = \"main_file\"\n"
   ]
  },
  {
   "cell_type": "code",
   "execution_count": 2,
   "metadata": {},
   "outputs": [],
   "source": [
    "def reading_text_into_the_frame(directory):\n",
    "    \n",
    "    headers = ['Year', 'Week', 'SMN', 'SMT', 'VCI', 'TCI', 'VHI', 'empty']\n",
    "    all_df = []\n",
    "    fnames = os.listdir(directory)\n",
    "   \n",
    "    for fname in fnames:\n",
    "        \n",
    "        if fname.startswith(\"NOAA\") and fname.endswith(\".csv\"):\n",
    "            \n",
    "            file_path = os.path.join(directory, fname)\n",
    "            df = pd.read_csv(file_path, header=1, names=headers)\n",
    "            df =df.drop(columns=['empty']).dropna()\n",
    "            df = df.drop(df.loc[df['VHI'] == -1].index)\n",
    "            \n",
    "            i = int(re.search(r'\\d+', fname).group())\n",
    "            df['area'] = i\n",
    "            \n",
    "            df.loc[0, 'Year'] = df.loc[0,'Year'][9:]\n",
    "            \n",
    "            df['Year'] = df['Year'].astype(int)\n",
    "            \n",
    "            all_df.append(df)\n",
    "            \n",
    "    final_df = pd.concat(all_df, ignore_index=True)\n",
    " \n",
    "  \n",
    "    final_df['Year'] = pd.to_numeric(final_df['Year'], errors='coerce')\n",
    "    final_df['area'] = pd.to_numeric(final_df['area'], errors='coerce')\n",
    "    \n",
    "    return(final_df)\n"
   ]
  },
  {
   "cell_type": "code",
   "execution_count": 3,
   "metadata": {},
   "outputs": [],
   "source": [
    "directory = \"../lab2/Data\"\n",
    "df = reading_text_into_the_frame(directory)"
   ]
  },
  {
   "cell_type": "markdown",
   "metadata": {},
   "source": [
    "## Створення веб-додатоку \n",
    "  - обрати часовий ряд VCI, TCI, VHI для набору даних із лабораторної\n",
    "роботи 2 (dropdown список);\n",
    "  - Вибрати область, для якої буде виконуватись аналіз (dropdown список);\n",
    "  - Зазначити інтервал тижнів, за які відбираються дані;\n",
    "  - Зазначити інтервал років та продумати відображення на графіку обраних\n",
    "даних (часові ряди задіапазон років, що обмежені інтервалом тижнів)\n",
    "  - Створити кілька вкладок для відображення таблиці із даними на графіку\n",
    "ходу індексів;\n",
    "  - Інші завдання на прохання викладача."
   ]
  },
  {
   "cell_type": "code",
   "execution_count": null,
   "metadata": {},
   "outputs": [],
   "source": [
    "options = [ {\"label\": \"Cherkasy\", \"value\": 1},\n",
    "                                  {\"label\": \"Chernihiv\", \"value\": 2},\n",
    "                                  {\"label\": \"Chernivtsi\", \"value\": 3},\n",
    "                                  {\"label\": \"Crimea\", \"value\": 4},\n",
    "                                  {\"label\": \"Dnipropetrovs'k\", \"value\": 5},\n",
    "                                  {\"label\": \"Donets'k\", \"value\": 6},\n",
    "                                  {\"label\": \"Ivano-Frankivs'k\", \"value\": 7},\n",
    "                                  {\"label\": \"Kharkiv\", \"value\": 8},\n",
    "                                  {\"label\": \"Kherson\", \"value\": 9},\n",
    "                                  {\"label\": \"Khmel'nyts'kyy\", \"value\": 10},\n",
    "                                  {\"label\": \"Kiev\", \"value\": 11},\n",
    "                                  {\"label\": \"Kiev City\", \"value\": 12},\n",
    "                                  {\"label\": \"Kirovohrad\", \"value\": 13},\n",
    "                                  {\"label\": \"Luhans'k\", \"value\": 14},\n",
    "                                  {\"label\": \"L'viv\", \"value\": 15},\n",
    "                                  {\"label\": \"Mykolayiv\", \"value\": 16},\n",
    "                                  {\"label\": \"Odessa\", \"value\": 17},\n",
    "                                  {\"label\": \"Poltava\", \"value\": 18},\n",
    "                                  {\"label\": \"Cherkasy\", \"value\": 19},\n",
    "                                  {\"label\": \"Rivne\", \"value\": 20},\n",
    "                                  {\"label\": \"Sumy\", \"value\": 21},\n",
    "                                  {\"label\": \"Ternopil'\", \"value\": 22},\n",
    "                                  {\"label\": \"Transcarpathia\", \"value\": 23},\n",
    "                                  {\"label\": \"Vinnytsya\", \"value\": 24},\n",
    "                                  {\"label\": \"Volyn\", \"value\": 25},\n",
    "                                  {\"label\": \"Zaporizhzhya\", \"value\": 26},\n",
    "                                  {\"label\": \"Zhytomyr\", \"value\": 27}]\n",
    "\n",
    "class SimpleApp(server.App):\n",
    "    title = \"NOAA data visuslization\"\n",
    "\n",
    "            # Oбрати часовий ряд VCI, TCI, VHI для набору даних із лабораторної роботи 2 (dropdown список)\n",
    "    inputs = [\n",
    "            { \"type\": 'dropdown',\n",
    "                    \"label\": 'NOAA data dropdown',\n",
    "                    \"options\" : [ {\"label\": \"VCI\", \"value\":\"VCI\"},\n",
    "                                  {\"label\": \"TCI\", \"value\":\"TCI\"},\n",
    "                                  {\"label\": \"VHI\", \"value\":\"VHI\"}],\n",
    "                    \"key\": 'ticker',\n",
    "                    'value': 'VHI',\n",
    "                    \"action_id\": \"update_data\"},\n",
    "            \n",
    "            # Вибрати область, для якої буде виконуватись аналіз (dropdown список)\n",
    "            {\"type\": 'dropdown',\n",
    "                    \"label\": 'Select a region',\n",
    "\n",
    "                    \"options\" : [ {\"label\": i[\"label\"], \"value\": i[\"value\"]} for i in options],\n",
    "                    \"key\": 'area',\n",
    "                    'value': 1,\n",
    "                    \"action_id\": \"update_data\"},\n",
    "            \n",
    "            # Зазначити інтервал років та продумати відображення на графіку обраних даних\n",
    "                 \n",
    "            { \"type\":'text',\n",
    "                    \"label\": 'The beginning of the interval (1982-2024)',\n",
    "                    \"key\" :  'year_1' ,  \n",
    "                    \"value\" :  1985 ,\n",
    "                    \"action_id\"  :  \"update_data\" , \n",
    "                    },\n",
    "             { \"type\":'text',\n",
    "                    \"label\": 'The end of the interval (1982-2024)',\n",
    "                    \"key\" :  'year_2' ,  \n",
    "                    \"value\" :  2020 ,\n",
    "                    \"action_id\" : \"update_data\", \n",
    "                    },\n",
    "    \n",
    "         \n",
    "            #   Зазначити інтервал тижнів, за які відбираються дані\n",
    "              { \"type\":'text',\n",
    "                    \"label\": 'Interval of weeks',\n",
    "                    \"key\" :  'range_week' ,  \n",
    "                    \"value\" :  \"1-3\" ,\n",
    "                    \"action_id\"  :  \"update_data\" , \n",
    "                    }]\n",
    "            \n",
    "\n",
    "    controls = [{  \"type\" : \"hidden\",\n",
    "                    \"id\" : \"update_data\"}]\n",
    " \n",
    "    #  Створити кілька вкладок для відображення таблиці із даними на графіку ходу індексів\n",
    "    tabs = [\"Plot\", \"Table\"]\n",
    "\n",
    "    outputs = [{ \"type\" : \"plot\",\n",
    "                    \"id\" : \"plot\",\n",
    "                    \"control_id\" : \"update_data\",\n",
    "                    \"tab\" : \"Plot\"},\n",
    "               \n",
    "                { \"type\" : \"table\",\n",
    "                    \"id\" : \"table_id\",\n",
    "                    \"control_id\" : \"update_data\",\n",
    "                    \"tab\" : \"Table\",\n",
    "                    \"on_page_load\" : True }]\n",
    "\n",
    "    def getData(self, params):\n",
    "        \n",
    "        ticker = params['ticker']\n",
    "        area = int(params['area'])\n",
    "        year_1, year_2 = int(params['year_1']), int((params['year_2']))\n",
    "        week = (params['range_week'].split('-'))\n",
    "        week_1, week_2 = int(week[0]), int(week[1])\n",
    "        final_df = df.loc[ (df['area'] == area) &\n",
    "                           (df['Week'].between(week_1, week_2)) &\n",
    "                           (df['Year'].between(year_1, year_2)) ,\n",
    "                            ['Year', 'Week', ticker] ] \n",
    "        return final_df\n",
    "\n",
    "    def getPlot(self, params):\n",
    "        \n",
    "        label = \"0\"\n",
    "        for dict in options:\n",
    "                   \n",
    "                if str(dict[\"value\"])==str(params['area']): \n",
    "                      label = dict[\"label\"]  \n",
    "                      break\n",
    "        \n",
    "     \n",
    "        \n",
    "        df = self.getData(params).set_index(['Year','Week'])\n",
    "        plt_obj = df.plot( title = params['ticker'] + \" plot for \"+ label , xlabel=\"Year, Week\")\n",
    "        \n",
    "        return plt_obj.get_figure()\n"
   ]
  },
  {
   "cell_type": "code",
   "execution_count": null,
   "metadata": {},
   "outputs": [
    {
     "name": "stderr",
     "output_type": "stream",
     "text": [
      "[25/Nov/2024:17:34:11] ENGINE Listening for SIGTERM.\n",
      "INFO:cherrypy.error:[25/Nov/2024:17:34:11] ENGINE Listening for SIGTERM.\n",
      "[25/Nov/2024:17:34:11] ENGINE Bus STARTING\n",
      "INFO:cherrypy.error:[25/Nov/2024:17:34:11] ENGINE Bus STARTING\n",
      "[25/Nov/2024:17:34:11] ENGINE Set handler for console events.\n",
      "INFO:cherrypy.error:[25/Nov/2024:17:34:11] ENGINE Set handler for console events.\n",
      "CherryPy Checker:\n",
      "The Application mounted at '' has an empty config.\n",
      "\n",
      "[25/Nov/2024:17:34:11] ENGINE Started monitor thread 'Autoreloader'.\n",
      "INFO:cherrypy.error:[25/Nov/2024:17:34:11] ENGINE Started monitor thread 'Autoreloader'.\n",
      "[25/Nov/2024:17:34:12] ENGINE Serving on http://127.0.0.1:8080\n",
      "INFO:cherrypy.error:[25/Nov/2024:17:34:12] ENGINE Serving on http://127.0.0.1:8080\n",
      "[25/Nov/2024:17:34:12] ENGINE Bus STARTED\n",
      "INFO:cherrypy.error:[25/Nov/2024:17:34:12] ENGINE Bus STARTED\n"
     ]
    },
    {
     "name": "stdout",
     "output_type": "stream",
     "text": [
      "127.0.0.1 - - [25/Nov/2024:17:34:21] \"GET / HTTP/1.1\" 200 442787 \"\" \"Mozilla/5.0 (Windows NT 10.0; Win64; x64) AppleWebKit/537.36 (KHTML, like Gecko) Chrome/131.0.0.0 Safari/537.36 Edg/131.0.0.0\"\n"
     ]
    },
    {
     "name": "stderr",
     "output_type": "stream",
     "text": [
      "INFO:cherrypy.access.2380177277072:127.0.0.1 - - [25/Nov/2024:17:34:21] \"GET / HTTP/1.1\" 200 442787 \"\" \"Mozilla/5.0 (Windows NT 10.0; Win64; x64) AppleWebKit/537.36 (KHTML, like Gecko) Chrome/131.0.0.0 Safari/537.36 Edg/131.0.0.0\"\n"
     ]
    },
    {
     "name": "stdout",
     "output_type": "stream",
     "text": [
      "1 1 Cherkasy\n",
      "Cherkasy\n",
      "127.0.0.1 - - [25/Nov/2024:17:34:21] \"GET /spinning_wheel HTTP/1.1\" 200 2663 \"http://127.0.0.1:8080/\" \"Mozilla/5.0 (Windows NT 10.0; Win64; x64) AppleWebKit/537.36 (KHTML, like Gecko) Chrome/131.0.0.0 Safari/537.36 Edg/131.0.0.0\"\n"
     ]
    },
    {
     "name": "stderr",
     "output_type": "stream",
     "text": [
      "INFO:cherrypy.access.2380177277072:127.0.0.1 - - [25/Nov/2024:17:34:21] \"GET /spinning_wheel HTTP/1.1\" 200 2663 \"http://127.0.0.1:8080/\" \"Mozilla/5.0 (Windows NT 10.0; Win64; x64) AppleWebKit/537.36 (KHTML, like Gecko) Chrome/131.0.0.0 Safari/537.36 Edg/131.0.0.0\"\n"
     ]
    },
    {
     "name": "stdout",
     "output_type": "stream",
     "text": [
      "127.0.0.1 - - [25/Nov/2024:17:34:21] \"GET /table?ticker=VHI&area=1&year_1=1985&year_2=2020&range_week=1-3&output_id=table_id& HTTP/1.1\" 200 8209 \"http://127.0.0.1:8080/\" \"Mozilla/5.0 (Windows NT 10.0; Win64; x64) AppleWebKit/537.36 (KHTML, like Gecko) Chrome/131.0.0.0 Safari/537.36 Edg/131.0.0.0\"\n"
     ]
    },
    {
     "name": "stderr",
     "output_type": "stream",
     "text": [
      "INFO:cherrypy.access.2380177277072:127.0.0.1 - - [25/Nov/2024:17:34:21] \"GET /table?ticker=VHI&area=1&year_1=1985&year_2=2020&range_week=1-3&output_id=table_id& HTTP/1.1\" 200 8209 \"http://127.0.0.1:8080/\" \"Mozilla/5.0 (Windows NT 10.0; Win64; x64) AppleWebKit/537.36 (KHTML, like Gecko) Chrome/131.0.0.0 Safari/537.36 Edg/131.0.0.0\"\n",
      "ERROR:root:Error: getPlot method must return an pyplot figure or matplotlib Axes object\n"
     ]
    },
    {
     "name": "stdout",
     "output_type": "stream",
     "text": [
      "127.0.0.1 - - [25/Nov/2024:17:34:22] \"GET /plot?ticker=VHI&area=1&year_1=1985&year_2=2020&range_week=1-3&output_id=plot& HTTP/1.1\" 200 37661 \"http://127.0.0.1:8080/\" \"Mozilla/5.0 (Windows NT 10.0; Win64; x64) AppleWebKit/537.36 (KHTML, like Gecko) Chrome/131.0.0.0 Safari/537.36 Edg/131.0.0.0\"\n"
     ]
    },
    {
     "name": "stderr",
     "output_type": "stream",
     "text": [
      "INFO:cherrypy.access.2380177277072:127.0.0.1 - - [25/Nov/2024:17:34:22] \"GET /plot?ticker=VHI&area=1&year_1=1985&year_2=2020&range_week=1-3&output_id=plot& HTTP/1.1\" 200 37661 \"http://127.0.0.1:8080/\" \"Mozilla/5.0 (Windows NT 10.0; Win64; x64) AppleWebKit/537.36 (KHTML, like Gecko) Chrome/131.0.0.0 Safari/537.36 Edg/131.0.0.0\"\n"
     ]
    }
   ],
   "source": [
    "app = SimpleApp()\n",
    "app.launch()"
   ]
  }
 ],
 "metadata": {
  "kernelspec": {
   "display_name": "Python 3",
   "language": "python",
   "name": "python3"
  },
  "language_info": {
   "codemirror_mode": {
    "name": "ipython",
    "version": 3
   },
   "file_extension": ".py",
   "mimetype": "text/x-python",
   "name": "python",
   "nbconvert_exporter": "python",
   "pygments_lexer": "ipython3",
   "version": "3.11.4"
  }
 },
 "nbformat": 4,
 "nbformat_minor": 2
}
